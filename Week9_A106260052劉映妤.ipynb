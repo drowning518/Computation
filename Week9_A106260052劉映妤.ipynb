{
  "nbformat": 4,
  "nbformat_minor": 0,
  "metadata": {
    "colab": {
      "name": "Week9-A106260052劉映妤.ipynb",
      "provenance": [],
      "include_colab_link": true
    },
    "kernelspec": {
      "name": "python3",
      "display_name": "Python 3"
    }
  },
  "cells": [
    {
      "cell_type": "markdown",
      "metadata": {
        "id": "view-in-github",
        "colab_type": "text"
      },
      "source": [
        "<a href=\"https://colab.research.google.com/github/drowning518/Computation/blob/master/Week9_A106260052%E5%8A%89%E6%98%A0%E5%A6%A4.ipynb\" target=\"_parent\"><img src=\"https://colab.research.google.com/assets/colab-badge.svg\" alt=\"Open In Colab\"/></a>"
      ]
    },
    {
      "cell_type": "code",
      "metadata": {
        "id": "fUyAYIx8R1S3",
        "colab_type": "code",
        "outputId": "a80d2fe8-e02c-4780-e663-df0d3fb0d5f2",
        "colab": {
          "base_uri": "https://localhost:8080/",
          "height": 51
        }
      },
      "source": [
        "score = int(input('請輸入一個成績?'))\n",
        "if score >= 60:\n",
        "  print('好棒棒!繼續努力~爭取更好呦~')\n",
        "if score <60:\n",
        "  print('這樣不行喔!請繼續努力好嗎?')"
      ],
      "execution_count": 0,
      "outputs": [
        {
          "output_type": "stream",
          "text": [
            "請輸入一個成績?95\n",
            "好棒棒!繼續努力~爭取更好呦~\n"
          ],
          "name": "stdout"
        }
      ]
    },
    {
      "cell_type": "code",
      "metadata": {
        "id": "0roE4jRCjF9W",
        "colab_type": "code",
        "outputId": "23ae2ee7-2d73-4316-b07f-24ae71e84a45",
        "colab": {
          "base_uri": "https://localhost:8080/",
          "height": 51
        }
      },
      "source": [
        "score = int(input('請輸入一個成績?'))\n",
        "if score >= 60:\n",
        " print('好棒棒!繼續努力~爭取更好呦~')\n",
        "else:\n",
        " print('這樣不行喔!請繼續努力好嗎?')"
      ],
      "execution_count": 0,
      "outputs": [
        {
          "output_type": "stream",
          "text": [
            "請輸入一個成績?30\n",
            "這樣不行喔!請繼續努力好嗎?\n"
          ],
          "name": "stdout"
        }
      ]
    },
    {
      "cell_type": "code",
      "metadata": {
        "id": "KONXmgnBlgC6",
        "colab_type": "code",
        "outputId": "586ced74-96b7-4e03-a058-79b06095a88c",
        "colab": {
          "base_uri": "https://localhost:8080/",
          "height": 51
        }
      },
      "source": [
        "score = int(input('請輸入一個成績?'))\n",
        "if score >= 80:\n",
        " print('好棒棒!繼續努力~爭取更好呦~')\n",
        "elif score >= 60:\n",
        " print('還可以啦~但我相信你可以更好!')\n",
        "else:\n",
        " print('這樣不行喔!請繼續努力好嗎?')"
      ],
      "execution_count": 0,
      "outputs": [
        {
          "output_type": "stream",
          "text": [
            "請輸入一個成績?60\n",
            "還可以啦~但我相信你可以更好!\n"
          ],
          "name": "stdout"
        }
      ]
    },
    {
      "cell_type": "code",
      "metadata": {
        "id": "mjlLPtfSmMM5",
        "colab_type": "code",
        "colab": {
          "base_uri": "https://localhost:8080/",
          "height": 68
        },
        "outputId": "179d841e-d773-4ab9-e1e0-1a5d17aeff04"
      },
      "source": [
        "x = float(input('請輸入該點的x座標?'))\n",
        "y = float(input('請輸入該點的y座標?'))\n",
        "\n",
        "if(x>0):\n",
        "  if(y>0):\n",
        "    print('該點在第一象限')\n",
        "  else:\n",
        "    print('該點在第四象限')\n",
        "else:\n",
        "  if (y > 0):\n",
        "    print('該點在第⼆象限')  \n",
        "  else:\n",
        "    print('該點在第三象限')   "
      ],
      "execution_count": 1,
      "outputs": [
        {
          "output_type": "stream",
          "text": [
            "請輸入該點的x座標?1\n",
            "請輸入該點的y座標?1\n",
            "該點在第一象限\n"
          ],
          "name": "stdout"
        }
      ]
    },
    {
      "cell_type": "code",
      "metadata": {
        "id": "hQOVZWNen8Po",
        "colab_type": "code",
        "colab": {}
      },
      "source": [
        ""
      ],
      "execution_count": 0,
      "outputs": []
    }
  ]
}