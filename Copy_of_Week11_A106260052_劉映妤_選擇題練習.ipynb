{
  "nbformat": 4,
  "nbformat_minor": 0,
  "metadata": {
    "colab": {
      "name": "Copy of Week11-A106260052-劉映妤-選擇題練習.ipynb",
      "provenance": [],
      "include_colab_link": true
    },
    "kernelspec": {
      "name": "python3",
      "display_name": "Python 3"
    }
  },
  "cells": [
    {
      "cell_type": "markdown",
      "metadata": {
        "id": "view-in-github",
        "colab_type": "text"
      },
      "source": [
        "<a href=\"https://colab.research.google.com/github/drowning518/Computation/blob/master/Copy_of_Week11_A106260052_%E5%8A%89%E6%98%A0%E5%A6%A4_%E9%81%B8%E6%93%87%E9%A1%8C%E7%B7%B4%E7%BF%92.ipynb\" target=\"_parent\"><img src=\"https://colab.research.google.com/assets/colab-badge.svg\" alt=\"Open In Colab\"/></a>"
      ]
    },
    {
      "cell_type": "code",
      "metadata": {
        "id": "o60545Prqn5n",
        "colab_type": "code",
        "colab": {}
      },
      "source": [
        "#選擇題練習\n",
        "#PDF1\n",
        "#1.A 2.B 3.D 4.C 5.A 6.A 7.B 8.C 9.A 10.B 11.C 12.A 13.B 14.C 15.D\n",
        "#PDF2\n",
        "#1.A 2.A 3.B 4.D 5.D 6."
      ],
      "execution_count": 0,
      "outputs": []
    }
  ]
}