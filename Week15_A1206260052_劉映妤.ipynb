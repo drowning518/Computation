{
  "nbformat": 4,
  "nbformat_minor": 0,
  "metadata": {
    "colab": {
      "name": "Week15-A1206260052-劉映妤.ipynb",
      "provenance": [],
      "include_colab_link": true
    },
    "kernelspec": {
      "name": "python3",
      "display_name": "Python 3"
    }
  },
  "cells": [
    {
      "cell_type": "markdown",
      "metadata": {
        "id": "view-in-github",
        "colab_type": "text"
      },
      "source": [
        "<a href=\"https://colab.research.google.com/github/drowning518/Computation/blob/master/Week15_A1206260052_%E5%8A%89%E6%98%A0%E5%A6%A4.ipynb\" target=\"_parent\"><img src=\"https://colab.research.google.com/assets/colab-badge.svg\" alt=\"Open In Colab\"/></a>"
      ]
    },
    {
      "cell_type": "code",
      "metadata": {
        "id": "rly6obfOqLPw",
        "colab_type": "code",
        "colab": {
          "base_uri": "https://localhost:8080/",
          "height": 102
        },
        "outputId": "5030a07b-51e1-4bb7-c950-f88f9f3bf9e6"
      },
      "source": [
        "n = 1\n",
        "\n",
        "while n < 5:\n",
        "    print(\"變數n是\", n)\n",
        "    n = n + 1\n",
        "\n",
        "print(\"Finished\")    "
      ],
      "execution_count": 1,
      "outputs": [
        {
          "output_type": "stream",
          "text": [
            "變數n是 1\n",
            "變數n是 2\n",
            "變數n是 3\n",
            "變數n是 4\n",
            "Finished\n"
          ],
          "name": "stdout"
        }
      ]
    },
    {
      "cell_type": "code",
      "metadata": {
        "id": "1uC5-88OrgBx",
        "colab_type": "code",
        "colab": {
          "base_uri": "https://localhost:8080/",
          "height": 187
        },
        "outputId": "d09961c2-2519-41c5-f2af-fe7391564c22"
      },
      "source": [
        "x = 0\n",
        "while x < 10:\n",
        "    print(\"Fish\")\n",
        "    x = x + 1"
      ],
      "execution_count": 4,
      "outputs": [
        {
          "output_type": "stream",
          "text": [
            "Fish\n",
            "Fish\n",
            "Fish\n",
            "Fish\n",
            "Fish\n",
            "Fish\n",
            "Fish\n",
            "Fish\n",
            "Fish\n",
            "Fish\n"
          ],
          "name": "stdout"
        }
      ]
    },
    {
      "cell_type": "code",
      "metadata": {
        "id": "q5opIvnTtvpi",
        "colab_type": "code",
        "colab": {
          "base_uri": "https://localhost:8080/",
          "height": 187
        },
        "outputId": "a3d88535-a8f9-42a7-e64d-052e3acf1ca6"
      },
      "source": [
        "times = 0\n",
        "while times < 10:\n",
        "    print(\"這是抓到第\",times,\"隻的Fish\")\n",
        "    times = times + 1"
      ],
      "execution_count": 37,
      "outputs": [
        {
          "output_type": "stream",
          "text": [
            "這是抓到第 0 隻的Fish\n",
            "這是抓到第 1 隻的Fish\n",
            "這是抓到第 2 隻的Fish\n",
            "這是抓到第 3 隻的Fish\n",
            "這是抓到第 4 隻的Fish\n",
            "這是抓到第 5 隻的Fish\n",
            "這是抓到第 6 隻的Fish\n",
            "這是抓到第 7 隻的Fish\n",
            "這是抓到第 8 隻的Fish\n",
            "這是抓到第 9 隻的Fish\n"
          ],
          "name": "stdout"
        }
      ]
    },
    {
      "cell_type": "code",
      "metadata": {
        "id": "Rm2Xhd5duuv0",
        "colab_type": "code",
        "colab": {
          "base_uri": "https://localhost:8080/",
          "height": 34
        },
        "outputId": "ae058b6f-ff8f-4d4f-ae42-aca91119c587"
      },
      "source": [
        "#1~10和\n",
        "x = 0\n",
        "result = 0\n",
        "\n",
        "while x < 10:\n",
        "    x = x + 1\n",
        "    result = result + x\n",
        "\n",
        "print(\"答案是:\",result)"
      ],
      "execution_count": 17,
      "outputs": [
        {
          "output_type": "stream",
          "text": [
            "答案是: 55\n"
          ],
          "name": "stdout"
        }
      ]
    },
    {
      "cell_type": "code",
      "metadata": {
        "id": "4P9f-SG_woX5",
        "colab_type": "code",
        "colab": {
          "base_uri": "https://localhost:8080/",
          "height": 34
        },
        "outputId": "31b7f71c-183a-4ac4-e21a-338db62be2cb"
      },
      "source": [
        "#1~x和大於50\n",
        "x = 0\n",
        "result = 0\n",
        "\n",
        "while result <= 50:\n",
        "    x = x + 1\n",
        "    result = result + x\n",
        "print(\"最後加的x是\",x)"
      ],
      "execution_count": 21,
      "outputs": [
        {
          "output_type": "stream",
          "text": [
            "最後加的x是 10\n"
          ],
          "name": "stdout"
        }
      ]
    },
    {
      "cell_type": "code",
      "metadata": {
        "id": "K6elsVVtx0YN",
        "colab_type": "code",
        "colab": {
          "base_uri": "https://localhost:8080/",
          "height": 34
        },
        "outputId": "8e725da5-7aab-4917-83f1-33cc254b7a18"
      },
      "source": [
        "#1~9的奇數和\n",
        "sum = 0\n",
        "x = 1\n",
        "\n",
        "while x < 10:\n",
        "  sum = sum + x\n",
        "  x = x + 2\n",
        "print(\"1+3+5+7+9=\",sum)"
      ],
      "execution_count": 34,
      "outputs": [
        {
          "output_type": "stream",
          "text": [
            "1+3+5+7+9= 25\n"
          ],
          "name": "stdout"
        }
      ]
    },
    {
      "cell_type": "code",
      "metadata": {
        "id": "i8ro11L2zMld",
        "colab_type": "code",
        "colab": {
          "base_uri": "https://localhost:8080/",
          "height": 34
        },
        "outputId": "296ac84f-9a09-433c-caaa-98872a8ac1f8"
      },
      "source": [
        "#大於1000最小平方和\n",
        "sum = 0 \n",
        "i = 0\n",
        "\n",
        "while sum <= 1000:\n",
        "    i += 1\n",
        "    sum += i*i\n",
        "print(\"最小的n值為\",i)"
      ],
      "execution_count": 33,
      "outputs": [
        {
          "output_type": "stream",
          "text": [
            "最小的n值為 14\n"
          ],
          "name": "stdout"
        }
      ]
    },
    {
      "cell_type": "code",
      "metadata": {
        "id": "MDl2xz1y1V5p",
        "colab_type": "code",
        "colab": {}
      },
      "source": [
        ""
      ],
      "execution_count": 0,
      "outputs": []
    }
  ]
}