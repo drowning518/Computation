{
  "nbformat": 4,
  "nbformat_minor": 0,
  "metadata": {
    "colab": {
      "name": "Week 16-A106260052-劉映妤.ipynb",
      "provenance": [],
      "include_colab_link": true
    },
    "kernelspec": {
      "name": "python3",
      "display_name": "Python 3"
    }
  },
  "cells": [
    {
      "cell_type": "markdown",
      "metadata": {
        "id": "view-in-github",
        "colab_type": "text"
      },
      "source": [
        "<a href=\"https://colab.research.google.com/github/drowning518/Computation/blob/master/Week_16_A106260052_%E5%8A%89%E6%98%A0%E5%A6%A4.ipynb\" target=\"_parent\"><img src=\"https://colab.research.google.com/assets/colab-badge.svg\" alt=\"Open In Colab\"/></a>"
      ]
    },
    {
      "cell_type": "code",
      "metadata": {
        "id": "0GnVU-u8wYYT",
        "colab_type": "code",
        "outputId": "7029e7dd-cda0-4153-a2b1-d0457695ba91",
        "colab": {
          "base_uri": "https://localhost:8080/",
          "height": 68
        }
      },
      "source": [
        "answer = \"drowning518\"\n",
        "\n",
        "while True:\n",
        "   password=input(\"Enter your password?\")\n",
        "   if password== answer:\n",
        "    break\n",
        "   else:\n",
        "     print(\"TRY AGAIN!!!\")"
      ],
      "execution_count": 0,
      "outputs": [
        {
          "output_type": "stream",
          "text": [
            "Enter your password?11111\n",
            "TRY AGAIN!!!\n",
            "Enter your password?drowning518\n"
          ],
          "name": "stdout"
        }
      ]
    },
    {
      "cell_type": "code",
      "metadata": {
        "id": "IxL9BxbGyAK3",
        "colab_type": "code",
        "outputId": "b8718a1e-0eca-4925-e053-d8a12a7d3547",
        "colab": {
          "base_uri": "https://localhost:8080/",
          "height": 119
        }
      },
      "source": [
        "while True:\n",
        "    acc = input('報上名來?')\n",
        "    pwd = input('師門編號是多少?')\n",
        "    if (acc == 'hello_fish' and pwd == 'drowning518'):\n",
        "        print('原來是同道中人啊~~')\n",
        "        break\n",
        "    else:\n",
        "         print('你是何方妖孽?!納命來!!!')"
      ],
      "execution_count": 0,
      "outputs": [
        {
          "output_type": "stream",
          "text": [
            "報上名來?hello_fish\n",
            "師門編號是多少?11111\n",
            "你是何方妖孽?!納命來!!!\n",
            "報上名來?hello_fish\n",
            "師門編號是多少?drowning518\n",
            "原來是同道中人啊~~\n"
          ],
          "name": "stdout"
        }
      ]
    },
    {
      "cell_type": "code",
      "metadata": {
        "id": "04m7d_so3VW7",
        "colab_type": "code",
        "outputId": "78146c8a-45ae-4c7a-acc8-f3b9d6c1ee49",
        "colab": {
          "base_uri": "https://localhost:8080/",
          "height": 204
        }
      },
      "source": [
        "range(5)\n",
        "range(3)\n",
        "range(2,5)\n",
        "range(2,10,3)\n",
        "\n",
        "for i in range(5):\n",
        "    print(i)\n",
        "\n",
        "for i in range(2,5):\n",
        "    print(i)\n",
        "\n",
        "for i in range(2,10,3):\n",
        "    print(i)"
      ],
      "execution_count": 0,
      "outputs": [
        {
          "output_type": "stream",
          "text": [
            "0\n",
            "1\n",
            "2\n",
            "3\n",
            "4\n",
            "2\n",
            "3\n",
            "4\n",
            "2\n",
            "5\n",
            "8\n"
          ],
          "name": "stdout"
        }
      ]
    },
    {
      "cell_type": "code",
      "metadata": {
        "id": "g729Cdzw4rFu",
        "colab_type": "code",
        "outputId": "43ba58e0-b71e-4e9c-87fe-84835b9ee495",
        "colab": {
          "base_uri": "https://localhost:8080/",
          "height": 187
        }
      },
      "source": [
        "start = int(input(\"Enter a number?\"))\n",
        "end = int(input(\"Enter a number?\"))\n",
        "step = int(input(\"Enter a number?\"))\n",
        "\n",
        "sum = 0\n",
        "\n",
        "for i in range(start,end,step):\n",
        "    sum = sum + i\n",
        "    print(\"i is\",i,\"sum equals\",sum)"
      ],
      "execution_count": 0,
      "outputs": [
        {
          "output_type": "stream",
          "text": [
            "Enter a number?2\n",
            "Enter a number?23\n",
            "Enter a number?3\n",
            "i is 2 sum equals 2\n",
            "i is 5 sum equals 7\n",
            "i is 8 sum equals 15\n",
            "i is 11 sum equals 26\n",
            "i is 14 sum equals 40\n",
            "i is 17 sum equals 57\n",
            "i is 20 sum equals 77\n"
          ],
          "name": "stdout"
        }
      ]
    },
    {
      "cell_type": "code",
      "metadata": {
        "id": "ThGgbjHI8bjZ",
        "colab_type": "code",
        "colab": {}
      },
      "source": [
        ""
      ],
      "execution_count": 0,
      "outputs": []
    }
  ]
}