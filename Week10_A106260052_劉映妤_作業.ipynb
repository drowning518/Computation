{
  "nbformat": 4,
  "nbformat_minor": 0,
  "metadata": {
    "colab": {
      "name": "Week10-A106260052-劉映妤-作業.ipynb",
      "provenance": [],
      "include_colab_link": true
    },
    "kernelspec": {
      "name": "python3",
      "display_name": "Python 3"
    }
  },
  "cells": [
    {
      "cell_type": "markdown",
      "metadata": {
        "id": "view-in-github",
        "colab_type": "text"
      },
      "source": [
        "<a href=\"https://colab.research.google.com/github/drowning518/Computation/blob/master/Week10_A106260052_%E5%8A%89%E6%98%A0%E5%A6%A4_%E4%BD%9C%E6%A5%AD.ipynb\" target=\"_parent\"><img src=\"https://colab.research.google.com/assets/colab-badge.svg\" alt=\"Open In Colab\"/></a>"
      ]
    },
    {
      "cell_type": "code",
      "metadata": {
        "id": "iObhOl6hrsLA",
        "colab_type": "code",
        "colab": {
          "base_uri": "https://localhost:8080/",
          "height": 102
        },
        "outputId": "c94524a7-4919-4c5f-a596-4ffa51230704"
      },
      "source": [
        "#整合專案：⽂字冒險旅程\n",
        "#這是一個2D世界的某個森林，和朋友來冒險並走散的你，需要靠自己走到森林小路上，才有機會獲救!\n",
        "#你只能選擇只能選擇向左或向右，選擇向左走，終於看到了小路，有機會獲救了！！ 選擇向右走，⼀不⼩⼼就會往山裡越走越深！......\n",
        "\n",
        "# 解題1: 輸入遊戲情境相關資訊\n",
        "print(\"You are on a forest in the 2D world.\")\n",
        "print(\"Try to save yourself!\")\n",
        "print(\"Available commands are in CAPITAL letters.\")\n",
        "print(\"Any other command exits the program\")\n",
        "print(\"First LOOK around...\")"
      ],
      "execution_count": 6,
      "outputs": [
        {
          "output_type": "stream",
          "text": [
            "You are on a forest in the 2D world.\n",
            "Try to save yourself!\n",
            "Available commands are in CAPITAL letters.\n",
            "Any other command exits the program\n",
            "First LOOK around...\n"
          ],
          "name": "stdout"
        }
      ]
    },
    {
      "cell_type": "code",
      "metadata": {
        "id": "OE0pD417v1py",
        "colab_type": "code",
        "colab": {
          "base_uri": "https://localhost:8080/",
          "height": 326
        },
        "outputId": "e554c899-64a3-482f-966e-c9db8f255a38"
      },
      "source": [
        "#解題2: 先看看周圍，只有兩個指令的冒險旅程\n",
        "do = input(\":: \")\n",
        "if do == \"LOOK\":\n",
        "  print(\"You lost your way in the forest.\")\n",
        "  print(\"Crawl out LEFT or RIGHT.\")\n",
        "\n",
        "  do = input(\":: \")\n",
        "  if do == \"LEFT\": \n",
        "    print(\"You see MUSHROOMS and WILD BERRIES nearby the tree\")\n",
        "    print(\"And you're hungry! Which do you eat?\")\n",
        "\n",
        "    do = input(\":: \") \n",
        "    if do == \"MUSHROOMS\":\n",
        "       print(\"Oh no! You immediately don't feel well.\")\n",
        "       print(\"You do not survive :(\")\n",
        "    elif do ==\"WILD BERRIES\":\n",
        "        print(\"This is a wildberry variety that has not been seen. Are you sure you want to eat it?  YES or NO.\")\n",
        "\n",
        "        do = input(\":: \")\n",
        "        if do == \"YES\":\n",
        "            print(\"Ok, You try it . Fingers crossed.\")\n",
        "            print(\"Food helps you go further, then you see A BOTTLE OF STRANGE DRINK\")\n",
        "        do = input(\":: \")\n",
        "        if do == \"A BOTTLE OF STRANGE DRINK\":\n",
        "          print(\"It’s a strange drink,and you are curious!\")\n",
        "          print(\"Do you drink it? YES or NO.\")\n",
        "\n",
        "          do = input(\":: \")\n",
        "          if do == \"YES\":\n",
        "             print(\"Oh boy. This drink makes your stomach feel uncomfortable!\")\n",
        "             print(\"You do not survive :(\") \n",
        "          elif do == \"NO\":\n",
        "             print(\"Good choice.\")\n",
        "             print(\"Look! You find the ribbon that your friend tied on the tree,follow it to get out of the forest. You made it! \\o/\")\n",
        "  elif do == \"NO\":\n",
        "        print(\"Well, there's nothing else left to eat.\")\n",
        "        print(\"You do not survive :(\") \n",
        "\n",
        "  elif do == \"RIGHT\": \n",
        "      print(\"Nothing, you can only go forward.\")\n",
        "      print(\"You feel tired and tired, and finally fell asleep...\")\n",
        "      print(\"You do not survive :(\") \n",
        "else: \n",
        "      print(\"You can only do actions shown in capital letters.\")\n",
        "      print(\"Try again!\")"
      ],
      "execution_count": 16,
      "outputs": [
        {
          "output_type": "stream",
          "text": [
            ":: LOOK\n",
            "You lost your way in the forest.\n",
            "Crawl out LEFT or RIGHT.\n",
            ":: LEFT\n",
            "You see MUSHROOMS and WILD BERRIES nearby the tree\n",
            "And you're hungry! Which do you eat?\n",
            ":: WILD BERRIES\n",
            "This is a wildberry variety that has not been seen. Are you sure you want to eat it?  YES or NO.\n",
            ":: YES\n",
            "Ok, You try it . Fingers crossed.\n",
            "Food helps you go further, then you see A BOTTLE OF STRANGE DRINK\n",
            ":: A BOTTLE OF STRANGE DRINK\n",
            "It’s a strange drink,and you are curious!\n",
            "Do you drink it? YES or NO.\n",
            ":: NO\n",
            "Good choice.\n",
            "Look! You find the ribbon that your friend tied on the tree,follow it to get out of the forest. You made it! \\o/\n"
          ],
          "name": "stdout"
        }
      ]
    },
    {
      "cell_type": "code",
      "metadata": {
        "id": "7Ww9RdnroqPq",
        "colab_type": "code",
        "colab": {
          "base_uri": "https://localhost:8080/",
          "height": 68
        },
        "outputId": "300ea08e-e1e6-4aa0-e3fa-eb7ce6c7d0e6"
      },
      "source": [
        "#遊戲應用:剪刀石頭布\n",
        "import random\n",
        "\n",
        "my = int(input(\"請出拳 [0]剪刀 [1]石頭 [2]布\"))\n",
        "print(\"我出拳為\", my)\n",
        "\n",
        "computer = random.randint(0, 2)\n",
        "print(\"電腦出拳為\", computer)"
      ],
      "execution_count": 3,
      "outputs": [
        {
          "output_type": "stream",
          "text": [
            "請出拳 [0]剪刀 [1]石頭 [2]布1\n",
            "我出拳為 1\n",
            "電腦出拳為 2\n"
          ],
          "name": "stdout"
        }
      ]
    },
    {
      "cell_type": "code",
      "metadata": {
        "id": "0yepRFnirqCC",
        "colab_type": "code",
        "colab": {
          "base_uri": "https://localhost:8080/",
          "height": 68
        },
        "outputId": "a151945c-de0c-4ca2-f78a-a368cf68d48b"
      },
      "source": [
        "#棒打老虎雞吃蟲\n",
        "import random\n",
        "\n",
        "my_choice = int(input(\"請出拳 [0] 蟲 [1] 雞 [2] 老虎 [3] 棒⼦\"))\n",
        "print(\"你出的拳:\", my_choice)\n",
        "\n",
        "com_choice = random.randint(0, 3)\n",
        "print(\"電腦出拳為\", com_choice)"
      ],
      "execution_count": 4,
      "outputs": [
        {
          "output_type": "stream",
          "text": [
            "請出拳 [0] 蟲 [1] 雞 [2] 老虎 [3] 棒⼦1\n",
            "你出的拳: 1\n",
            "電腦出拳為 0\n"
          ],
          "name": "stdout"
        }
      ]
    },
    {
      "cell_type": "code",
      "metadata": {
        "id": "ce4n9hxMqYQq",
        "colab_type": "code",
        "colab": {
          "base_uri": "https://localhost:8080/",
          "height": 51
        },
        "outputId": "4a96b77b-d40c-4e08-b1ac-bac202929753"
      },
      "source": [
        "#成果檢核\n",
        "#1.近視判斷\n",
        "vision = float (input('請輸入眼睛度數?'))\n",
        "if vision < 0.9 :\n",
        "  print('近視')\n",
        "else:\n",
        "  print('視力正常')"
      ],
      "execution_count": 22,
      "outputs": [
        {
          "output_type": "stream",
          "text": [
            "請輸入眼睛度數?0.8\n",
            "近視\n"
          ],
          "name": "stdout"
        }
      ]
    },
    {
      "cell_type": "code",
      "metadata": {
        "id": "e8-cun5mFank",
        "colab_type": "code",
        "colab": {
          "base_uri": "https://localhost:8080/",
          "height": 51
        },
        "outputId": "8a14adfb-46cb-45ac-c717-03a2701f67e8"
      },
      "source": [
        "#4.閏年判斷\n",
        "year = int(input('請輸入年份？'))\n",
        "if ((year % 400) == 0):\n",
        "    print(year, \"是閏年\")\n",
        "elif ((year % 100) == 0):\n",
        "    print(year, \"不是閏年\")\n",
        "elif ((year % 4) == 0):\n",
        "    print(year, \"是閏年\")\n",
        "else:\n",
        "    print(year, \"不是閏年\")"
      ],
      "execution_count": 23,
      "outputs": [
        {
          "output_type": "stream",
          "text": [
            "請輸入年份？2012\n",
            "2012 是閏年\n"
          ],
          "name": "stdout"
        }
      ]
    },
    {
      "cell_type": "code",
      "metadata": {
        "id": "uUXtv1tFHnYU",
        "colab_type": "code",
        "colab": {
          "base_uri": "https://localhost:8080/",
          "height": 51
        },
        "outputId": "40812c23-1a5a-4dce-a796-358a2c6d26e1"
      },
      "source": [
        "#加分練習:郵資計算\n",
        "weight = float(input('請輸入物品重量?'))\n",
        "if weight <= 5:\n",
        "   print('所需要郵資為50元')\n",
        "elif weight <= 10:\n",
        "     print('所需要郵資為70元')\n",
        "elif weight <= 15:\n",
        "     print('所需要郵資為90元')\n",
        "elif weight <= 20:\n",
        "     print('所需要郵資為110元')\n",
        "else:\n",
        "  print('超過20公斤無法寄送')    "
      ],
      "execution_count": 25,
      "outputs": [
        {
          "output_type": "stream",
          "text": [
            "請輸入物品重量?16\n",
            "所需要郵資為110元\n"
          ],
          "name": "stdout"
        }
      ]
    },
    {
      "cell_type": "code",
      "metadata": {
        "id": "ZG4oWixrJ5Yj",
        "colab_type": "code",
        "colab": {
          "base_uri": "https://localhost:8080/",
          "height": 51
        },
        "outputId": "02337528-b630-4402-9ac6-8f061710811e"
      },
      "source": [
        "#3.體溫與發燒\n",
        "temperature = float(input('請輸入體溫？'))\n",
        "if (temperature < 36):\n",
        "    print('體溫過低')\n",
        "elif (temperature < 38):\n",
        "    print('體溫正常')\n",
        "elif (temperature < 39):\n",
        "    print('體溫有點燒')\n",
        "else:\n",
        "    print('體溫很燒')"
      ],
      "execution_count": 26,
      "outputs": [
        {
          "output_type": "stream",
          "text": [
            "請輸入體溫？36.5\n",
            "體溫正常\n"
          ],
          "name": "stdout"
        }
      ]
    }
  ]
}